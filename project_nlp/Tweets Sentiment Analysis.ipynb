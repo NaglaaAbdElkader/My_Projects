{
 "cells": [
  {
   "cell_type": "markdown",
   "id": "7c86dd43",
   "metadata": {},
   "source": [
    "# Import NLTK and Download Data:"
   ]
  },
  {
   "cell_type": "code",
   "execution_count": 1,
   "id": "2c3acb7a",
   "metadata": {},
   "outputs": [
    {
     "name": "stderr",
     "output_type": "stream",
     "text": [
      "[nltk_data] Downloading package twitter_samples to\n",
      "[nltk_data]     C:\\Users\\user\\AppData\\Roaming\\nltk_data...\n",
      "[nltk_data]   Package twitter_samples is already up-to-date!\n"
     ]
    },
    {
     "data": {
      "text/plain": [
       "True"
      ]
     },
     "execution_count": 1,
     "metadata": {},
     "output_type": "execute_result"
    }
   ],
   "source": [
    "import nltk\n",
    "nltk.download('twitter_samples')"
   ]
  },
  {
   "cell_type": "code",
   "execution_count": 2,
   "id": "98d96d14",
   "metadata": {},
   "outputs": [],
   "source": [
    "from nltk.corpus import twitter_samples"
   ]
  },
  {
   "cell_type": "code",
   "execution_count": 3,
   "id": "f9751a1d",
   "metadata": {},
   "outputs": [],
   "source": [
    "positive_tweeet = twitter_samples.strings('positive_tweets.json')\n",
    "negative_tweeet = twitter_samples.strings('negative_tweets.json')\n",
    "text = twitter_samples.strings('tweets.20150430-223406.json')"
   ]
  },
  {
   "cell_type": "code",
   "execution_count": 4,
   "id": "c9bcf435",
   "metadata": {},
   "outputs": [
    {
     "name": "stderr",
     "output_type": "stream",
     "text": [
      "[nltk_data] Downloading package punkt to\n",
      "[nltk_data]     C:\\Users\\user\\AppData\\Roaming\\nltk_data...\n",
      "[nltk_data]   Package punkt is already up-to-date!\n"
     ]
    },
    {
     "data": {
      "text/plain": [
       "True"
      ]
     },
     "execution_count": 4,
     "metadata": {},
     "output_type": "execute_result"
    }
   ],
   "source": [
    "nltk.download('punkt')"
   ]
  },
  {
   "cell_type": "markdown",
   "id": "9a60f0e6",
   "metadata": {},
   "source": [
    "# Data Preprocessing:"
   ]
  },
  {
   "cell_type": "markdown",
   "id": "629895ff",
   "metadata": {},
   "source": [
    "# Tokenization"
   ]
  },
  {
   "cell_type": "code",
   "execution_count": 5,
   "id": "558f4600",
   "metadata": {},
   "outputs": [
    {
     "name": "stdout",
     "output_type": "stream",
     "text": [
      "#FollowFriday\n"
     ]
    }
   ],
   "source": [
    "tweet_tokens = twitter_samples.tokenized('positive_tweets.json')[0]\n",
    "print(tweet_tokens[0])"
   ]
  },
  {
   "cell_type": "markdown",
   "id": "02eb908e",
   "metadata": {},
   "source": [
    "# Normalization"
   ]
  },
  {
   "cell_type": "code",
   "execution_count": 6,
   "id": "a89f98e3",
   "metadata": {},
   "outputs": [
    {
     "data": {
      "text/plain": [
       "[(<AddressFamily.AF_INET6: 23>, 0, 0, '', ('::1', 8080, 0, 0)),\n",
       " (<AddressFamily.AF_INET: 2>, 0, 0, '', ('127.0.0.1', 8080))]"
      ]
     },
     "execution_count": 6,
     "metadata": {},
     "output_type": "execute_result"
    }
   ],
   "source": [
    "# debug step to solve an error appeared when download wordnet and averaged_perceptron_tagger\n",
    "import socket\n",
    "socket.getaddrinfo('localhost', 8080)"
   ]
  },
  {
   "cell_type": "code",
   "execution_count": 7,
   "id": "34931806",
   "metadata": {},
   "outputs": [
    {
     "name": "stderr",
     "output_type": "stream",
     "text": [
      "[nltk_data] Downloading package wordnet to\n",
      "[nltk_data]     C:\\Users\\user\\AppData\\Roaming\\nltk_data...\n",
      "[nltk_data]   Package wordnet is already up-to-date!\n",
      "[nltk_data] Downloading package averaged_perceptron_tagger to\n",
      "[nltk_data]     C:\\Users\\user\\AppData\\Roaming\\nltk_data...\n",
      "[nltk_data]   Package averaged_perceptron_tagger is already up-to-\n",
      "[nltk_data]       date!\n"
     ]
    },
    {
     "data": {
      "text/plain": [
       "True"
      ]
     },
     "execution_count": 7,
     "metadata": {},
     "output_type": "execute_result"
    }
   ],
   "source": [
    "import nltk\n",
    "nltk.download('wordnet')\n",
    "nltk.download('averaged_perceptron_tagger')"
   ]
  },
  {
   "cell_type": "code",
   "execution_count": 9,
   "id": "acb4a49c",
   "metadata": {},
   "outputs": [
    {
     "name": "stdout",
     "output_type": "stream",
     "text": [
      "[('#FollowFriday', 'JJ'), ('@France_Inte', 'NNP'), ('@PKuchly57', 'NNP'), ('@Milipol_Paris', 'NNP'), ('for', 'IN'), ('being', 'VBG'), ('top', 'JJ'), ('engaged', 'VBN'), ('members', 'NNS'), ('in', 'IN'), ('my', 'PRP$'), ('community', 'NN'), ('this', 'DT'), ('week', 'NN'), (':)', 'NN')]\n"
     ]
    }
   ],
   "source": [
    "from nltk.tag import pos_tag\n",
    "print(pos_tag(tweet_tokens))"
   ]
  },
  {
   "cell_type": "code",
   "execution_count": 10,
   "id": "2ae8ae67",
   "metadata": {},
   "outputs": [
    {
     "name": "stdout",
     "output_type": "stream",
     "text": [
      "['#FollowFriday', '@France_Inte', '@PKuchly57', '@Milipol_Paris', 'for', 'be', 'top', 'engage', 'member', 'in', 'my', 'community', 'this', 'week', ':)']\n"
     ]
    }
   ],
   "source": [
    "from nltk.stem.wordnet import WordNetLemmatizer\n",
    "def lemmatize_tweet(tokens):\n",
    "    lemmatizer = WordNetLemmatizer()\n",
    "    lemmatized_tweet = []\n",
    "    for word,tag in pos_tag(tokens):\n",
    "        if tag.startswith('NN'):\n",
    "            pos = 'n'\n",
    "        elif tag.startswith('VB'):\n",
    "            pos = 'v'\n",
    "        else:\n",
    "            pos = 'a'\n",
    "        lemmatized_tweet.append(lemmatizer.lemmatize(word,pos))\n",
    "    return lemmatized_tweet\n",
    "print(lemmatize_tweet(tweet_tokens))"
   ]
  },
  {
   "cell_type": "markdown",
   "id": "8abc0c70",
   "metadata": {},
   "source": [
    "# Removing Noise"
   ]
  },
  {
   "cell_type": "code",
   "execution_count": 11,
   "id": "7a4d6aa1",
   "metadata": {},
   "outputs": [],
   "source": [
    "import re,string\n",
    "def removie_noise(tweet_tokens,stop_words = ()):\n",
    "    cleaned_tokens = []\n",
    "    for token,tag in pos_tag(tweet_tokens):\n",
    "        token = re.sub('http[s]?://(?:[a-zA-Z]|[0-9]|[$-_@.&+#]|[!*\\(\\),]|'\\\n",
    "                       '(?:%[0-9a-fA-F][0-9a-fA-F]))+','', token)\n",
    "        token = re.sub(\"(@[A-Za-z0-9_]+)\",\"\",token)\n",
    "        if tag.startswith('NN'):\n",
    "            pos = 'n'\n",
    "        elif tag.startswith('VB'):\n",
    "            pos = 'v'\n",
    "        else:\n",
    "            pos = 'a'\n",
    "        lemmatizer = WordNetLemmatizer()\n",
    "        token = lemmatizer.lemmatize(token,pos)\n",
    "        if len(token) > 0 and token not in string.punctuation and token.lower() not in stop_words:\n",
    "            cleaned_tokens.append(token.lower())\n",
    "    return cleaned_tokens  "
   ]
  },
  {
   "cell_type": "code",
   "execution_count": 12,
   "id": "36ae560b",
   "metadata": {},
   "outputs": [
    {
     "name": "stderr",
     "output_type": "stream",
     "text": [
      "[nltk_data] Downloading package stopwords to\n",
      "[nltk_data]     C:\\Users\\user\\AppData\\Roaming\\nltk_data...\n",
      "[nltk_data]   Package stopwords is already up-to-date!\n"
     ]
    },
    {
     "data": {
      "text/plain": [
       "True"
      ]
     },
     "execution_count": 12,
     "metadata": {},
     "output_type": "execute_result"
    }
   ],
   "source": [
    "nltk.download('stopwords')"
   ]
  },
  {
   "cell_type": "code",
   "execution_count": 13,
   "id": "b56ff35a",
   "metadata": {},
   "outputs": [
    {
     "name": "stdout",
     "output_type": "stream",
     "text": [
      "['#followfriday', 'top', 'engage', 'member', 'community', 'week', ':)']\n"
     ]
    }
   ],
   "source": [
    "from nltk.corpus import stopwords\n",
    "stop_words = stopwords.words('english')\n",
    "print(removie_noise(tweet_tokens,stop_words))"
   ]
  },
  {
   "cell_type": "code",
   "execution_count": 14,
   "id": "9a84b64c",
   "metadata": {},
   "outputs": [],
   "source": [
    "positive_tweeet_tokens = twitter_samples.tokenized('positive_tweets.json')\n",
    "negative_tweeet_tokens = twitter_samples.tokenized('negative_tweets.json')\n",
    "positive_cleaned_tokens_list = []\n",
    "negative_cleaned_tokens_list = []\n",
    "for tokens in positive_tweeet_tokens:\n",
    "    positive_cleaned_tokens_list.append(removie_noise(tokens,stop_words))\n",
    "for tokens in negative_tweeet_tokens:\n",
    "    negative_cleaned_tokens_list.append(removie_noise(tokens,stop_words))"
   ]
  },
  {
   "cell_type": "code",
   "execution_count": 16,
   "id": "714e1520",
   "metadata": {},
   "outputs": [
    {
     "name": "stdout",
     "output_type": "stream",
     "text": [
      "['Dang', 'that', 'is', 'some', 'rad', '@AbzuGame', '#fanart', '!', ':D', 'https://t.co/bI8k8tb9ht']\n",
      "['dang', 'rad', '#fanart', ':d']\n"
     ]
    }
   ],
   "source": [
    "print(positive_tweeet_tokens[500])\n",
    "print(positive_cleaned_tokens_list[500])"
   ]
  },
  {
   "cell_type": "markdown",
   "id": "a24cd953",
   "metadata": {},
   "source": [
    "# Words Density (positive tweets)"
   ]
  },
  {
   "cell_type": "code",
   "execution_count": 17,
   "id": "65b63565",
   "metadata": {},
   "outputs": [],
   "source": [
    "def get_all_words(cleaned_tokens_list):\n",
    "    for tokens in cleaned_tokens_list:\n",
    "        for token in tokens:\n",
    "            yield token\n",
    "all_positive_words = get_all_words(positive_cleaned_tokens_list)"
   ]
  },
  {
   "cell_type": "code",
   "execution_count": 18,
   "id": "16ec8523",
   "metadata": {},
   "outputs": [
    {
     "name": "stdout",
     "output_type": "stream",
     "text": [
      "[(':)', 3691), (':-)', 701), (':d', 658), ('thanks', 388), ('follow', 357), ('love', 333), ('...', 290), ('good', 283), ('get', 263), ('thank', 253)]\n"
     ]
    }
   ],
   "source": [
    "from nltk import FreqDist\n",
    "freq_dist_positive = FreqDist(all_positive_words)\n",
    "print(freq_dist_positive.most_common(10))"
   ]
  },
  {
   "cell_type": "markdown",
   "id": "cb062776",
   "metadata": {},
   "source": [
    "# Preparing Data and Model:"
   ]
  },
  {
   "cell_type": "markdown",
   "id": "7b40a382",
   "metadata": {},
   "source": [
    "# Tokens to Dictionary"
   ]
  },
  {
   "cell_type": "code",
   "execution_count": 19,
   "id": "c6b90513",
   "metadata": {},
   "outputs": [],
   "source": [
    "def get_tweets_for_model(cleaned_tokens_list):\n",
    "    for tweet_tokens in cleaned_tokens_list:\n",
    "        yield dict([token,True] for token in tweet_tokens)\n",
    "model_positive_tokens = get_tweets_for_model(positive_cleaned_tokens_list)\n",
    "model_negative_tokens = get_tweets_for_model(negative_cleaned_tokens_list)"
   ]
  },
  {
   "cell_type": "markdown",
   "id": "468ff314",
   "metadata": {},
   "source": [
    "# Splitting the Dataset for Training and Testing"
   ]
  },
  {
   "cell_type": "code",
   "execution_count": 20,
   "id": "30acb126",
   "metadata": {},
   "outputs": [],
   "source": [
    "import random\n",
    "positive_dataset = [(tweet_dict,\"Positive\") for tweet_dict in model_positive_tokens]\n",
    "negative_dataset = [(tweet_dict,\"Negative\") for tweet_dict in model_negative_tokens]\n",
    "dataset = positive_dataset + negative_dataset\n",
    "random.shuffle(dataset)\n",
    "train_data = dataset[:7000]\n",
    "test_data = dataset[7000:]"
   ]
  },
  {
   "cell_type": "markdown",
   "id": "7c057d20",
   "metadata": {},
   "source": [
    "# Build and Test the Model:"
   ]
  },
  {
   "cell_type": "code",
   "execution_count": 21,
   "id": "77025a4b",
   "metadata": {},
   "outputs": [
    {
     "name": "stdout",
     "output_type": "stream",
     "text": [
      "Accuracy is: 0.9936666666666667\n",
      "Most Informative Features\n",
      "                      :( = True           Negati : Positi =   2068.7 : 1.0\n",
      "                     sad = True           Negati : Positi =     55.9 : 1.0\n",
      "                follower = True           Positi : Negati =     36.2 : 1.0\n",
      "                     bam = True           Positi : Negati =     20.3 : 1.0\n",
      "                  arrive = True           Positi : Negati =     18.1 : 1.0\n",
      "                     x15 = True           Negati : Positi =     17.7 : 1.0\n",
      "                followed = True           Negati : Positi =     14.7 : 1.0\n",
      "                 welcome = True           Positi : Negati =     14.1 : 1.0\n",
      "               community = True           Positi : Negati =     13.6 : 1.0\n",
      "                    miss = True           Negati : Positi =     11.8 : 1.0\n",
      "None\n"
     ]
    }
   ],
   "source": [
    "from nltk import classify\n",
    "from nltk import NaiveBayesClassifier\n",
    "classifier = NaiveBayesClassifier.train(train_data)\n",
    "print(\"Accuracy is:\",classify.accuracy(classifier,test_data))\n",
    "print(classifier.show_most_informative_features(10))"
   ]
  },
  {
   "cell_type": "code",
   "execution_count": 22,
   "id": "395c7161",
   "metadata": {},
   "outputs": [
    {
     "name": "stdout",
     "output_type": "stream",
     "text": [
      "Negative\n"
     ]
    }
   ],
   "source": [
    "from nltk.tokenize import word_tokenize\n",
    "customer_tweet = \"I ordered just once from TerribleCo, they screwed up, never used the app again.\"\n",
    "customer_tokens = removie_noise(word_tokenize(customer_tweet))\n",
    "print(classifier.classify(dict([token,True] for token in customer_tokens)))"
   ]
  },
  {
   "cell_type": "code",
   "execution_count": 23,
   "id": "64c752a5",
   "metadata": {},
   "outputs": [
    {
     "name": "stdout",
     "output_type": "stream",
     "text": [
      "Positive\n"
     ]
    }
   ],
   "source": [
    "from nltk.tokenize import word_tokenize\n",
    "customer_tweet1 = \"Congrats #SportStar on your 7th best goal from last season winning goal of the year :) #Baller #Topbin #oneofmanyworldies\"\n",
    "customer_tokens1 = removie_noise(word_tokenize(customer_tweet1))\n",
    "print(classifier.classify(dict([token,True] for token in customer_tokens1)))"
   ]
  },
  {
   "cell_type": "code",
   "execution_count": 24,
   "id": "eb288dab",
   "metadata": {},
   "outputs": [
    {
     "name": "stdout",
     "output_type": "stream",
     "text": [
      "Negative\n"
     ]
    }
   ],
   "source": [
    "from nltk.tokenize import word_tokenize\n",
    "customer_tweet3 = \"i feel sick today :) #sickness #sick leave \"\n",
    "customer_tokens3 = removie_noise(word_tokenize(customer_tweet3))\n",
    "print(classifier.classify(dict([token,True] for token in customer_tokens3)))"
   ]
  },
  {
   "cell_type": "code",
   "execution_count": null,
   "id": "742f002f",
   "metadata": {},
   "outputs": [],
   "source": []
  }
 ],
 "metadata": {
  "kernelspec": {
   "display_name": "Python 3 (ipykernel)",
   "language": "python",
   "name": "python3"
  },
  "language_info": {
   "codemirror_mode": {
    "name": "ipython",
    "version": 3
   },
   "file_extension": ".py",
   "mimetype": "text/x-python",
   "name": "python",
   "nbconvert_exporter": "python",
   "pygments_lexer": "ipython3",
   "version": "3.9.7"
  }
 },
 "nbformat": 4,
 "nbformat_minor": 5
}
