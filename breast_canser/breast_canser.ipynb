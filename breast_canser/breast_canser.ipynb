{
 "cells": [
  {
   "cell_type": "code",
   "execution_count": 1,
   "id": "2cb6f56a",
   "metadata": {},
   "outputs": [
    {
     "data": {
      "text/html": [
       "<div>\n",
       "<style scoped>\n",
       "    .dataframe tbody tr th:only-of-type {\n",
       "        vertical-align: middle;\n",
       "    }\n",
       "\n",
       "    .dataframe tbody tr th {\n",
       "        vertical-align: top;\n",
       "    }\n",
       "\n",
       "    .dataframe thead th {\n",
       "        text-align: right;\n",
       "    }\n",
       "</style>\n",
       "<table border=\"1\" class=\"dataframe\">\n",
       "  <thead>\n",
       "    <tr style=\"text-align: right;\">\n",
       "      <th></th>\n",
       "      <th>Sample_code_number</th>\n",
       "      <th>Clump_Thickness</th>\n",
       "      <th>Uniformity_of_Cell_Size</th>\n",
       "      <th>Uniformity_of_Cell_Shape</th>\n",
       "      <th>Marginal_Adhesion</th>\n",
       "      <th>Single_Epithelial_Cell_Size</th>\n",
       "      <th>Bare_Nuclei</th>\n",
       "      <th>Bland_Chromatin</th>\n",
       "      <th>Normal_Nucleoli</th>\n",
       "      <th>Mitoses</th>\n",
       "      <th>Class</th>\n",
       "    </tr>\n",
       "  </thead>\n",
       "  <tbody>\n",
       "    <tr>\n",
       "      <th>0</th>\n",
       "      <td>1000025</td>\n",
       "      <td>5</td>\n",
       "      <td>1</td>\n",
       "      <td>1</td>\n",
       "      <td>1</td>\n",
       "      <td>2</td>\n",
       "      <td>1</td>\n",
       "      <td>3</td>\n",
       "      <td>1</td>\n",
       "      <td>1</td>\n",
       "      <td>2</td>\n",
       "    </tr>\n",
       "    <tr>\n",
       "      <th>1</th>\n",
       "      <td>1002945</td>\n",
       "      <td>5</td>\n",
       "      <td>4</td>\n",
       "      <td>4</td>\n",
       "      <td>5</td>\n",
       "      <td>7</td>\n",
       "      <td>10</td>\n",
       "      <td>3</td>\n",
       "      <td>2</td>\n",
       "      <td>1</td>\n",
       "      <td>2</td>\n",
       "    </tr>\n",
       "    <tr>\n",
       "      <th>2</th>\n",
       "      <td>1015425</td>\n",
       "      <td>3</td>\n",
       "      <td>1</td>\n",
       "      <td>1</td>\n",
       "      <td>1</td>\n",
       "      <td>2</td>\n",
       "      <td>2</td>\n",
       "      <td>3</td>\n",
       "      <td>1</td>\n",
       "      <td>1</td>\n",
       "      <td>2</td>\n",
       "    </tr>\n",
       "    <tr>\n",
       "      <th>3</th>\n",
       "      <td>1016277</td>\n",
       "      <td>6</td>\n",
       "      <td>8</td>\n",
       "      <td>8</td>\n",
       "      <td>1</td>\n",
       "      <td>3</td>\n",
       "      <td>4</td>\n",
       "      <td>3</td>\n",
       "      <td>7</td>\n",
       "      <td>1</td>\n",
       "      <td>2</td>\n",
       "    </tr>\n",
       "    <tr>\n",
       "      <th>4</th>\n",
       "      <td>1017023</td>\n",
       "      <td>4</td>\n",
       "      <td>1</td>\n",
       "      <td>1</td>\n",
       "      <td>3</td>\n",
       "      <td>2</td>\n",
       "      <td>1</td>\n",
       "      <td>3</td>\n",
       "      <td>1</td>\n",
       "      <td>1</td>\n",
       "      <td>2</td>\n",
       "    </tr>\n",
       "  </tbody>\n",
       "</table>\n",
       "</div>"
      ],
      "text/plain": [
       "   Sample_code_number  Clump_Thickness  Uniformity_of_Cell_Size  \\\n",
       "0             1000025                5                        1   \n",
       "1             1002945                5                        4   \n",
       "2             1015425                3                        1   \n",
       "3             1016277                6                        8   \n",
       "4             1017023                4                        1   \n",
       "\n",
       "   Uniformity_of_Cell_Shape   Marginal_Adhesion  Single_Epithelial_Cell_Size  \\\n",
       "0                          1                  1                            2   \n",
       "1                          4                  5                            7   \n",
       "2                          1                  1                            2   \n",
       "3                          8                  1                            3   \n",
       "4                          1                  3                            2   \n",
       "\n",
       "  Bare_Nuclei  Bland_Chromatin  Normal_Nucleoli  Mitoses  Class  \n",
       "0           1                3                1        1      2  \n",
       "1          10                3                2        1      2  \n",
       "2           2                3                1        1      2  \n",
       "3           4                3                7        1      2  \n",
       "4           1                3                1        1      2  "
      ]
     },
     "execution_count": 1,
     "metadata": {},
     "output_type": "execute_result"
    }
   ],
   "source": [
    "import pandas as pd\n",
    "data = pd.read_csv('breast-cancer-wisconsin.data',names=[\n",
    "    'Sample_code_number',      \n",
    "    'Clump_Thickness',             \n",
    "    'Uniformity_of_Cell_Size',       \n",
    "    'Uniformity_of_Cell_Shape ',     \n",
    "    'Marginal_Adhesion',              \n",
    "    'Single_Epithelial_Cell_Size',    \n",
    "    'Bare_Nuclei',                   \n",
    "    'Bland_Chromatin',               \n",
    "    'Normal_Nucleoli',                \n",
    "    'Mitoses',                       \n",
    "    'Class'\n",
    "])\n",
    "data.head()"
   ]
  },
  {
   "cell_type": "code",
   "execution_count": 2,
   "id": "88779914",
   "metadata": {},
   "outputs": [
    {
     "data": {
      "text/plain": [
       "Sample_code_number              int64\n",
       "Clump_Thickness                 int64\n",
       "Uniformity_of_Cell_Size         int64\n",
       "Uniformity_of_Cell_Shape        int64\n",
       "Marginal_Adhesion               int64\n",
       "Single_Epithelial_Cell_Size     int64\n",
       "Bare_Nuclei                    object\n",
       "Bland_Chromatin                 int64\n",
       "Normal_Nucleoli                 int64\n",
       "Mitoses                         int64\n",
       "Class                           int64\n",
       "dtype: object"
      ]
     },
     "execution_count": 2,
     "metadata": {},
     "output_type": "execute_result"
    }
   ],
   "source": [
    "data.dtypes"
   ]
  },
  {
   "cell_type": "code",
   "execution_count": 3,
   "id": "6fce5989",
   "metadata": {},
   "outputs": [],
   "source": [
    "def is_non_numeric(x):\n",
    "    return not x.isnumeric() "
   ]
  },
  {
   "cell_type": "code",
   "execution_count": 4,
   "id": "4d7bc8f7",
   "metadata": {},
   "outputs": [],
   "source": [
    "mask= data['Bare_Nuclei'].apply(is_non_numeric)"
   ]
  },
  {
   "cell_type": "code",
   "execution_count": 5,
   "id": "15b7206c",
   "metadata": {},
   "outputs": [
    {
     "data": {
      "text/html": [
       "<div>\n",
       "<style scoped>\n",
       "    .dataframe tbody tr th:only-of-type {\n",
       "        vertical-align: middle;\n",
       "    }\n",
       "\n",
       "    .dataframe tbody tr th {\n",
       "        vertical-align: top;\n",
       "    }\n",
       "\n",
       "    .dataframe thead th {\n",
       "        text-align: right;\n",
       "    }\n",
       "</style>\n",
       "<table border=\"1\" class=\"dataframe\">\n",
       "  <thead>\n",
       "    <tr style=\"text-align: right;\">\n",
       "      <th></th>\n",
       "      <th>Sample_code_number</th>\n",
       "      <th>Clump_Thickness</th>\n",
       "      <th>Uniformity_of_Cell_Size</th>\n",
       "      <th>Uniformity_of_Cell_Shape</th>\n",
       "      <th>Marginal_Adhesion</th>\n",
       "      <th>Single_Epithelial_Cell_Size</th>\n",
       "      <th>Bare_Nuclei</th>\n",
       "      <th>Bland_Chromatin</th>\n",
       "      <th>Normal_Nucleoli</th>\n",
       "      <th>Mitoses</th>\n",
       "      <th>Class</th>\n",
       "    </tr>\n",
       "  </thead>\n",
       "  <tbody>\n",
       "    <tr>\n",
       "      <th>0</th>\n",
       "      <td>1000025</td>\n",
       "      <td>5</td>\n",
       "      <td>1</td>\n",
       "      <td>1</td>\n",
       "      <td>1</td>\n",
       "      <td>2</td>\n",
       "      <td>1</td>\n",
       "      <td>3</td>\n",
       "      <td>1</td>\n",
       "      <td>1</td>\n",
       "      <td>2</td>\n",
       "    </tr>\n",
       "    <tr>\n",
       "      <th>1</th>\n",
       "      <td>1002945</td>\n",
       "      <td>5</td>\n",
       "      <td>4</td>\n",
       "      <td>4</td>\n",
       "      <td>5</td>\n",
       "      <td>7</td>\n",
       "      <td>10</td>\n",
       "      <td>3</td>\n",
       "      <td>2</td>\n",
       "      <td>1</td>\n",
       "      <td>2</td>\n",
       "    </tr>\n",
       "    <tr>\n",
       "      <th>2</th>\n",
       "      <td>1015425</td>\n",
       "      <td>3</td>\n",
       "      <td>1</td>\n",
       "      <td>1</td>\n",
       "      <td>1</td>\n",
       "      <td>2</td>\n",
       "      <td>2</td>\n",
       "      <td>3</td>\n",
       "      <td>1</td>\n",
       "      <td>1</td>\n",
       "      <td>2</td>\n",
       "    </tr>\n",
       "    <tr>\n",
       "      <th>3</th>\n",
       "      <td>1016277</td>\n",
       "      <td>6</td>\n",
       "      <td>8</td>\n",
       "      <td>8</td>\n",
       "      <td>1</td>\n",
       "      <td>3</td>\n",
       "      <td>4</td>\n",
       "      <td>3</td>\n",
       "      <td>7</td>\n",
       "      <td>1</td>\n",
       "      <td>2</td>\n",
       "    </tr>\n",
       "    <tr>\n",
       "      <th>4</th>\n",
       "      <td>1017023</td>\n",
       "      <td>4</td>\n",
       "      <td>1</td>\n",
       "      <td>1</td>\n",
       "      <td>3</td>\n",
       "      <td>2</td>\n",
       "      <td>1</td>\n",
       "      <td>3</td>\n",
       "      <td>1</td>\n",
       "      <td>1</td>\n",
       "      <td>2</td>\n",
       "    </tr>\n",
       "  </tbody>\n",
       "</table>\n",
       "</div>"
      ],
      "text/plain": [
       "   Sample_code_number  Clump_Thickness  Uniformity_of_Cell_Size  \\\n",
       "0             1000025                5                        1   \n",
       "1             1002945                5                        4   \n",
       "2             1015425                3                        1   \n",
       "3             1016277                6                        8   \n",
       "4             1017023                4                        1   \n",
       "\n",
       "   Uniformity_of_Cell_Shape   Marginal_Adhesion  Single_Epithelial_Cell_Size  \\\n",
       "0                          1                  1                            2   \n",
       "1                          4                  5                            7   \n",
       "2                          1                  1                            2   \n",
       "3                          8                  1                            3   \n",
       "4                          1                  3                            2   \n",
       "\n",
       "  Bare_Nuclei  Bland_Chromatin  Normal_Nucleoli  Mitoses  Class  \n",
       "0           1                3                1        1      2  \n",
       "1          10                3                2        1      2  \n",
       "2           2                3                1        1      2  \n",
       "3           4                3                7        1      2  \n",
       "4           1                3                1        1      2  "
      ]
     },
     "execution_count": 5,
     "metadata": {},
     "output_type": "execute_result"
    }
   ],
   "source": [
    "\n",
    "#data_non_numeric = data[mask]\n",
    "#data_non_numeric.head()\n",
    "data_numeric = data[~mask]\n",
    "data_numeric.head()\n",
    "\n"
   ]
  },
  {
   "cell_type": "code",
   "execution_count": 6,
   "id": "2cbec90a",
   "metadata": {},
   "outputs": [
    {
     "name": "stdout",
     "output_type": "stream",
     "text": [
      "699\n",
      "683\n"
     ]
    }
   ],
   "source": [
    "print(len(data))\n",
    "print(len(data_numeric))"
   ]
  },
  {
   "cell_type": "code",
   "execution_count": 7,
   "id": "68a94a22",
   "metadata": {},
   "outputs": [
    {
     "data": {
      "text/plain": [
       "Sample_code_number              int64\n",
       "Clump_Thickness                 int64\n",
       "Uniformity_of_Cell_Size         int64\n",
       "Uniformity_of_Cell_Shape        int64\n",
       "Marginal_Adhesion               int64\n",
       "Single_Epithelial_Cell_Size     int64\n",
       "Bare_Nuclei                    object\n",
       "Bland_Chromatin                 int64\n",
       "Normal_Nucleoli                 int64\n",
       "Mitoses                         int64\n",
       "Class                           int64\n",
       "dtype: object"
      ]
     },
     "execution_count": 7,
     "metadata": {},
     "output_type": "execute_result"
    }
   ],
   "source": [
    "data_numeric.dtypes"
   ]
  },
  {
   "cell_type": "code",
   "execution_count": 8,
   "id": "57b92779",
   "metadata": {},
   "outputs": [
    {
     "name": "stderr",
     "output_type": "stream",
     "text": [
      "C:\\Users\\user\\AppData\\Local\\Temp\\ipykernel_13000\\3985407380.py:1: SettingWithCopyWarning: \n",
      "A value is trying to be set on a copy of a slice from a DataFrame.\n",
      "Try using .loc[row_indexer,col_indexer] = value instead\n",
      "\n",
      "See the caveats in the documentation: https://pandas.pydata.org/pandas-docs/stable/user_guide/indexing.html#returning-a-view-versus-a-copy\n",
      "  data_numeric['Bare_Nuclei']=data_numeric['Bare_Nuclei'].astype('int64')\n"
     ]
    }
   ],
   "source": [
    "data_numeric['Bare_Nuclei']=data_numeric['Bare_Nuclei'].astype('int64')"
   ]
  },
  {
   "cell_type": "code",
   "execution_count": 9,
   "id": "0196f744",
   "metadata": {},
   "outputs": [
    {
     "data": {
      "text/plain": [
       "Sample_code_number             int64\n",
       "Clump_Thickness                int64\n",
       "Uniformity_of_Cell_Size        int64\n",
       "Uniformity_of_Cell_Shape       int64\n",
       "Marginal_Adhesion              int64\n",
       "Single_Epithelial_Cell_Size    int64\n",
       "Bare_Nuclei                    int64\n",
       "Bland_Chromatin                int64\n",
       "Normal_Nucleoli                int64\n",
       "Mitoses                        int64\n",
       "Class                          int64\n",
       "dtype: object"
      ]
     },
     "execution_count": 9,
     "metadata": {},
     "output_type": "execute_result"
    }
   ],
   "source": [
    "data_numeric.dtypes"
   ]
  },
  {
   "cell_type": "code",
   "execution_count": 10,
   "id": "d0ad2e31",
   "metadata": {},
   "outputs": [],
   "source": [
    "data_input = data_numeric.drop(columns=['Sample_code_number','Class'])"
   ]
  },
  {
   "cell_type": "code",
   "execution_count": 11,
   "id": "134f1561",
   "metadata": {},
   "outputs": [],
   "source": [
    "data_output = data_numeric['Class']"
   ]
  },
  {
   "cell_type": "code",
   "execution_count": 12,
   "id": "4720948d",
   "metadata": {},
   "outputs": [
    {
     "data": {
      "text/html": [
       "<div>\n",
       "<style scoped>\n",
       "    .dataframe tbody tr th:only-of-type {\n",
       "        vertical-align: middle;\n",
       "    }\n",
       "\n",
       "    .dataframe tbody tr th {\n",
       "        vertical-align: top;\n",
       "    }\n",
       "\n",
       "    .dataframe thead th {\n",
       "        text-align: right;\n",
       "    }\n",
       "</style>\n",
       "<table border=\"1\" class=\"dataframe\">\n",
       "  <thead>\n",
       "    <tr style=\"text-align: right;\">\n",
       "      <th></th>\n",
       "      <th>Clump_Thickness</th>\n",
       "      <th>Uniformity_of_Cell_Size</th>\n",
       "      <th>Uniformity_of_Cell_Shape</th>\n",
       "      <th>Marginal_Adhesion</th>\n",
       "      <th>Single_Epithelial_Cell_Size</th>\n",
       "      <th>Bare_Nuclei</th>\n",
       "      <th>Bland_Chromatin</th>\n",
       "      <th>Normal_Nucleoli</th>\n",
       "      <th>Mitoses</th>\n",
       "    </tr>\n",
       "  </thead>\n",
       "  <tbody>\n",
       "    <tr>\n",
       "      <th>0</th>\n",
       "      <td>5</td>\n",
       "      <td>1</td>\n",
       "      <td>1</td>\n",
       "      <td>1</td>\n",
       "      <td>2</td>\n",
       "      <td>1</td>\n",
       "      <td>3</td>\n",
       "      <td>1</td>\n",
       "      <td>1</td>\n",
       "    </tr>\n",
       "    <tr>\n",
       "      <th>1</th>\n",
       "      <td>5</td>\n",
       "      <td>4</td>\n",
       "      <td>4</td>\n",
       "      <td>5</td>\n",
       "      <td>7</td>\n",
       "      <td>10</td>\n",
       "      <td>3</td>\n",
       "      <td>2</td>\n",
       "      <td>1</td>\n",
       "    </tr>\n",
       "    <tr>\n",
       "      <th>2</th>\n",
       "      <td>3</td>\n",
       "      <td>1</td>\n",
       "      <td>1</td>\n",
       "      <td>1</td>\n",
       "      <td>2</td>\n",
       "      <td>2</td>\n",
       "      <td>3</td>\n",
       "      <td>1</td>\n",
       "      <td>1</td>\n",
       "    </tr>\n",
       "    <tr>\n",
       "      <th>3</th>\n",
       "      <td>6</td>\n",
       "      <td>8</td>\n",
       "      <td>8</td>\n",
       "      <td>1</td>\n",
       "      <td>3</td>\n",
       "      <td>4</td>\n",
       "      <td>3</td>\n",
       "      <td>7</td>\n",
       "      <td>1</td>\n",
       "    </tr>\n",
       "    <tr>\n",
       "      <th>4</th>\n",
       "      <td>4</td>\n",
       "      <td>1</td>\n",
       "      <td>1</td>\n",
       "      <td>3</td>\n",
       "      <td>2</td>\n",
       "      <td>1</td>\n",
       "      <td>3</td>\n",
       "      <td>1</td>\n",
       "      <td>1</td>\n",
       "    </tr>\n",
       "    <tr>\n",
       "      <th>...</th>\n",
       "      <td>...</td>\n",
       "      <td>...</td>\n",
       "      <td>...</td>\n",
       "      <td>...</td>\n",
       "      <td>...</td>\n",
       "      <td>...</td>\n",
       "      <td>...</td>\n",
       "      <td>...</td>\n",
       "      <td>...</td>\n",
       "    </tr>\n",
       "    <tr>\n",
       "      <th>97</th>\n",
       "      <td>5</td>\n",
       "      <td>1</td>\n",
       "      <td>1</td>\n",
       "      <td>1</td>\n",
       "      <td>2</td>\n",
       "      <td>1</td>\n",
       "      <td>3</td>\n",
       "      <td>1</td>\n",
       "      <td>1</td>\n",
       "    </tr>\n",
       "    <tr>\n",
       "      <th>98</th>\n",
       "      <td>9</td>\n",
       "      <td>6</td>\n",
       "      <td>9</td>\n",
       "      <td>2</td>\n",
       "      <td>10</td>\n",
       "      <td>6</td>\n",
       "      <td>2</td>\n",
       "      <td>9</td>\n",
       "      <td>10</td>\n",
       "    </tr>\n",
       "    <tr>\n",
       "      <th>99</th>\n",
       "      <td>7</td>\n",
       "      <td>5</td>\n",
       "      <td>6</td>\n",
       "      <td>10</td>\n",
       "      <td>5</td>\n",
       "      <td>10</td>\n",
       "      <td>7</td>\n",
       "      <td>9</td>\n",
       "      <td>4</td>\n",
       "    </tr>\n",
       "    <tr>\n",
       "      <th>100</th>\n",
       "      <td>10</td>\n",
       "      <td>3</td>\n",
       "      <td>5</td>\n",
       "      <td>1</td>\n",
       "      <td>10</td>\n",
       "      <td>5</td>\n",
       "      <td>3</td>\n",
       "      <td>10</td>\n",
       "      <td>2</td>\n",
       "    </tr>\n",
       "    <tr>\n",
       "      <th>101</th>\n",
       "      <td>2</td>\n",
       "      <td>3</td>\n",
       "      <td>4</td>\n",
       "      <td>4</td>\n",
       "      <td>2</td>\n",
       "      <td>5</td>\n",
       "      <td>2</td>\n",
       "      <td>5</td>\n",
       "      <td>1</td>\n",
       "    </tr>\n",
       "  </tbody>\n",
       "</table>\n",
       "<p>100 rows × 9 columns</p>\n",
       "</div>"
      ],
      "text/plain": [
       "     Clump_Thickness  Uniformity_of_Cell_Size  Uniformity_of_Cell_Shape   \\\n",
       "0                  5                        1                          1   \n",
       "1                  5                        4                          4   \n",
       "2                  3                        1                          1   \n",
       "3                  6                        8                          8   \n",
       "4                  4                        1                          1   \n",
       "..               ...                      ...                        ...   \n",
       "97                 5                        1                          1   \n",
       "98                 9                        6                          9   \n",
       "99                 7                        5                          6   \n",
       "100               10                        3                          5   \n",
       "101                2                        3                          4   \n",
       "\n",
       "     Marginal_Adhesion  Single_Epithelial_Cell_Size  Bare_Nuclei  \\\n",
       "0                    1                            2            1   \n",
       "1                    5                            7           10   \n",
       "2                    1                            2            2   \n",
       "3                    1                            3            4   \n",
       "4                    3                            2            1   \n",
       "..                 ...                          ...          ...   \n",
       "97                   1                            2            1   \n",
       "98                   2                           10            6   \n",
       "99                  10                            5           10   \n",
       "100                  1                           10            5   \n",
       "101                  4                            2            5   \n",
       "\n",
       "     Bland_Chromatin  Normal_Nucleoli  Mitoses  \n",
       "0                  3                1        1  \n",
       "1                  3                2        1  \n",
       "2                  3                1        1  \n",
       "3                  3                7        1  \n",
       "4                  3                1        1  \n",
       "..               ...              ...      ...  \n",
       "97                 3                1        1  \n",
       "98                 2                9       10  \n",
       "99                 7                9        4  \n",
       "100                3               10        2  \n",
       "101                2                5        1  \n",
       "\n",
       "[100 rows x 9 columns]"
      ]
     },
     "execution_count": 12,
     "metadata": {},
     "output_type": "execute_result"
    }
   ],
   "source": [
    "data_input.head(100)"
   ]
  },
  {
   "cell_type": "code",
   "execution_count": 13,
   "id": "fdc0f14f",
   "metadata": {},
   "outputs": [
    {
     "data": {
      "text/plain": [
       "0      2\n",
       "1      2\n",
       "2      2\n",
       "3      2\n",
       "4      2\n",
       "      ..\n",
       "97     2\n",
       "98     4\n",
       "99     4\n",
       "100    4\n",
       "101    4\n",
       "Name: Class, Length: 100, dtype: int64"
      ]
     },
     "execution_count": 13,
     "metadata": {},
     "output_type": "execute_result"
    }
   ],
   "source": [
    "data_output.head(100)"
   ]
  },
  {
   "cell_type": "code",
   "execution_count": 14,
   "id": "3cf59ead",
   "metadata": {},
   "outputs": [
    {
     "data": {
      "text/plain": [
       "array([2, 4], dtype=int64)"
      ]
     },
     "execution_count": 14,
     "metadata": {},
     "output_type": "execute_result"
    }
   ],
   "source": [
    "data_output.unique()"
   ]
  },
  {
   "cell_type": "code",
   "execution_count": 15,
   "id": "63383778",
   "metadata": {},
   "outputs": [],
   "source": [
    "data_output=data_output.replace({2:0,4:1})"
   ]
  },
  {
   "cell_type": "code",
   "execution_count": 16,
   "id": "75afe389",
   "metadata": {},
   "outputs": [
    {
     "data": {
      "text/plain": [
       "array([0, 1], dtype=int64)"
      ]
     },
     "execution_count": 16,
     "metadata": {},
     "output_type": "execute_result"
    }
   ],
   "source": [
    "data_output.unique()"
   ]
  },
  {
   "cell_type": "code",
   "execution_count": 17,
   "id": "d7afd42f",
   "metadata": {},
   "outputs": [
    {
     "data": {
      "text/plain": [
       "0    0\n",
       "1    0\n",
       "2    0\n",
       "3    0\n",
       "4    0\n",
       "Name: Class, dtype: int64"
      ]
     },
     "execution_count": 17,
     "metadata": {},
     "output_type": "execute_result"
    }
   ],
   "source": [
    "data_output.head()"
   ]
  },
  {
   "cell_type": "code",
   "execution_count": 18,
   "id": "1c6722f6",
   "metadata": {},
   "outputs": [],
   "source": [
    "from sklearn.model_selection import train_test_split\n",
    "x,x_test,y,y_test = train_test_split(data_input,data_output,test_size=0.33,random_state=2)\n",
    "x_train,x_val,y_train,y_val = train_test_split(x,y,test_size=0.33,random_state=2)\n"
   ]
  },
  {
   "cell_type": "code",
   "execution_count": 19,
   "id": "9890818c",
   "metadata": {},
   "outputs": [
    {
     "name": "stdout",
     "output_type": "stream",
     "text": [
      "(306, 9)\n",
      "(306,)\n",
      "(151, 9)\n",
      "(151,)\n",
      "(226, 9)\n",
      "(226,)\n"
     ]
    }
   ],
   "source": [
    "print(x_train.shape)\n",
    "print(y_train.shape)\n",
    "print(x_val.shape)\n",
    "print(y_val.shape)\n",
    "print(x_test.shape)\n",
    "print(y_test.shape)"
   ]
  },
  {
   "cell_type": "code",
   "execution_count": 20,
   "id": "0ba884a5",
   "metadata": {},
   "outputs": [],
   "source": [
    "from sklearn.tree import DecisionTreeClassifier"
   ]
  },
  {
   "cell_type": "code",
   "execution_count": 21,
   "id": "ca8f955a",
   "metadata": {},
   "outputs": [],
   "source": [
    "model = DecisionTreeClassifier(max_depth=2,random_state=2)"
   ]
  },
  {
   "cell_type": "code",
   "execution_count": 22,
   "id": "c73b2ae0",
   "metadata": {},
   "outputs": [
    {
     "data": {
      "text/plain": [
       "DecisionTreeClassifier(max_depth=2, random_state=2)"
      ]
     },
     "execution_count": 22,
     "metadata": {},
     "output_type": "execute_result"
    }
   ],
   "source": [
    "model.fit(x_train,y_train)"
   ]
  },
  {
   "cell_type": "code",
   "execution_count": 23,
   "id": "2619c9a1",
   "metadata": {},
   "outputs": [],
   "source": [
    "from sklearn.metrics import accuracy_score"
   ]
  },
  {
   "cell_type": "code",
   "execution_count": 24,
   "id": "0486cb71",
   "metadata": {},
   "outputs": [],
   "source": [
    "y_pred_train=model.predict(x_train)\n",
    "y_pred_val=model.predict(x_val)"
   ]
  },
  {
   "cell_type": "code",
   "execution_count": 25,
   "id": "c96cc3c8",
   "metadata": {},
   "outputs": [
    {
     "name": "stdout",
     "output_type": "stream",
     "text": [
      "0.9705882352941176\n",
      "0.9536423841059603\n"
     ]
    }
   ],
   "source": [
    "print(accuracy_score(y_train,y_pred_train))\n",
    "print(accuracy_score(y_val,y_pred_val))"
   ]
  },
  {
   "cell_type": "code",
   "execution_count": 26,
   "id": "88b57c67",
   "metadata": {},
   "outputs": [],
   "source": [
    "max_depth_values=[1,2,3,4,5,6,7,8]\n",
    "train_accuracy_values=[]\n",
    "val_accuracy_values=[]\n",
    "for max_depth_val in max_depth_values:\n",
    "    model = DecisionTreeClassifier(max_depth=max_depth_val,random_state=2)\n",
    "    model.fit(x_train,y_train)\n",
    "    y_pred_train=model.predict(x_train)\n",
    "    y_pred_val=model.predict(x_val)\n",
    "    acc_train= accuracy_score(y_train,y_pred_train)\n",
    "    acc_val= accuracy_score(y_val,y_pred_val)\n",
    "    train_accuracy_values.append(acc_train)\n",
    "    val_accuracy_values.append(acc_val)\n",
    "\n",
    "    \n",
    "    \n",
    "    "
   ]
  },
  {
   "cell_type": "code",
   "execution_count": 27,
   "id": "af9788ba",
   "metadata": {},
   "outputs": [
    {
     "data": {
      "image/png": "[encoded data removed]",
      "text/plain": [
       "<Figure size 432x288 with 1 Axes>"
      ]
     },
     "metadata": {
      "needs_background": "light"
     },
     "output_type": "display_data"
    }
   ],
   "source": [
    "import matplotlib.pyplot as plt\n",
    "%matplotlib inline\n",
    "plt.plot(max_depth_values,train_accuracy_values,label='acc_train')\n",
    "plt.plot(max_depth_values,val_accuracy_values,label='acc_val')\n",
    "plt.legend()\n",
    "plt.grid(axis='both')\n",
    "plt.xlabel('max_depth')\n",
    "plt.ylabel('accuracy')\n",
    "plt.title('Effect of max_depth on accuracy')\n",
    "plt.show()\n",
    "\n"
   ]
  },
  {
   "cell_type": "code",
   "execution_count": 28,
   "id": "1fcbb530",
   "metadata": {},
   "outputs": [
    {
     "data": {
      "text/plain": [
       "DecisionTreeClassifier(max_depth=3, random_state=2)"
      ]
     },
     "execution_count": 28,
     "metadata": {},
     "output_type": "execute_result"
    }
   ],
   "source": [
    "model_best = DecisionTreeClassifier(max_depth=3,random_state=2)\n",
    "model_best.fit(x_train,y_train)\n"
   ]
  },
  {
   "cell_type": "code",
   "execution_count": 29,
   "id": "40686bdc",
   "metadata": {},
   "outputs": [
    {
     "name": "stdout",
     "output_type": "stream",
     "text": [
      "0.9292035398230089\n"
     ]
    }
   ],
   "source": [
    "y_pred_test = model_best.predict(x_test)\n",
    "print(accuracy_score(y_test,y_pred_test))"
   ]
  },
  {
   "cell_type": "code",
   "execution_count": 30,
   "id": "8e8a2b39",
   "metadata": {},
   "outputs": [],
   "source": [
    "import pickle\n",
    "with open('saved-model','wb') as f:\n",
    "    pickle.dump(model_best,f)"
   ]
  },
  {
   "cell_type": "code",
   "execution_count": 31,
   "id": "f7c8d113",
   "metadata": {},
   "outputs": [],
   "source": [
    "with open('saved-model','rb') as f:\n",
    "    pickle.load(f)"
   ]
  },
  {
   "cell_type": "code",
   "execution_count": 32,
   "id": "a2361270",
   "metadata": {},
   "outputs": [
    {
     "data": {
      "image/png": "[encoded data removed]",
      "text/plain": [
       "<Figure size 1440x720 with 1 Axes>"
      ]
     },
     "metadata": {
      "needs_background": "light"
     },
     "output_type": "display_data"
    }
   ],
   "source": [
    "from sklearn import tree\n",
    "plt.figure(figsize=(20,10))\n",
    "tree.plot_tree(model_best,feature_names=['Clump_Thickness',             \n",
    "    'Uniformity_of_Cell_Size',       \n",
    "    'Uniformity_of_Cell_Shape ',     \n",
    "    'Marginal_Adhesion',              \n",
    "    'Single_Epithelial_Cell_Size',    \n",
    "    'Bare_Nuclei',                   \n",
    "    'Bland_Chromatin',               \n",
    "    'Normal_Nucleoli',                \n",
    "    'Mitoses'], class_names=['benign','malignant'], filled=True)\n",
    "plt.show()\n",
    "    \n",
    "            "
   ]
  },
  {
   "cell_type": "code",
   "execution_count": 33,
   "id": "f091740e",
   "metadata": {},
   "outputs": [
    {
     "data": {
      "text/plain": [
       "array([0.02340327, 0.83879425, 0.05794766, 0.        , 0.        ,\n",
       "       0.06737306, 0.01248175, 0.        , 0.        ])"
      ]
     },
     "execution_count": 33,
     "metadata": {},
     "output_type": "execute_result"
    }
   ],
   "source": [
    "model_best.feature_importances_"
   ]
  },
  {
   "cell_type": "code",
   "execution_count": 34,
   "id": "04010bc2",
   "metadata": {},
   "outputs": [
    {
     "data": {
      "image/png": "[encoded data removed]",
      "text/plain": [
       "<Figure size 432x288 with 1 Axes>"
      ]
     },
     "metadata": {
      "needs_background": "light"
     },
     "output_type": "display_data"
    }
   ],
   "source": [
    "feature_names=['Clump_Thickness',             \n",
    "    'Uniformity_of_Cell_Size',       \n",
    "    'Uniformity_of_Cell_Shape ',     \n",
    "    'Marginal_Adhesion',              \n",
    "    'Single_Epithelial_Cell_Size',    \n",
    "    'Bare_Nuclei',                   \n",
    "    'Bland_Chromatin',               \n",
    "    'Normal_Nucleoli',                \n",
    "    'Mitoses']\n",
    "plt.bar(feature_names,model_best.feature_importances_)\n",
    "plt.xlabel('features')\n",
    "plt.xticks(rotation=90)\n",
    "plt.ylabel('importance')\n",
    "plt.title('Feature importances')\n",
    "plt.show()"
   ]
  },
  {
   "cell_type": "code",
   "execution_count": 35,
   "id": "d718a591",
   "metadata": {},
   "outputs": [
    {
     "name": "stdout",
     "output_type": "stream",
     "text": [
      "Prediction is: 1 is //The person has malignant disease //\n"
     ]
    }
   ],
   "source": [
    "test_input_data = (9,6,9,2,10,6,2,9,10)\n",
    "import numpy as np\n",
    "test_input_data_arr = np.asarray(test_input_data)\n",
    "test_input_data_reshaped = test_input_data_arr.reshape(1,-1)\n",
    "prediction = model_best.predict(test_input_data_reshaped)\n",
    "if prediction[0] == 0:\n",
    "    print(\"Prediction is: 0 is //The person has benign disease //\" )\n",
    "else:\n",
    "    print(\"Prediction is: 1 is //The person has malignant disease //\")"
   ]
  },
  {
   "cell_type": "code",
   "execution_count": 36,
   "id": "217b3de7",
   "metadata": {},
   "outputs": [
    {
     "name": "stdout",
     "output_type": "stream",
     "text": [
      "Prediction is: 0 is //The person has benign disease //\n"
     ]
    }
   ],
   "source": [
    "test_input_data = (5,1,1,1,2,1,3,1,1)\n",
    "import numpy as np\n",
    "test_input_data_arr = np.asarray(test_input_data)\n",
    "test_input_data_reshaped = test_input_data_arr.reshape(1,-1)\n",
    "prediction = model_best.predict(test_input_data_reshaped)\n",
    "if prediction[0] == 0:\n",
    "        print(\"Prediction is: 0 is //The person has benign disease //\" )\n",
    "else:\n",
    "    print(\"Prediction is: 1 is //The person has malignant disease //\")"
   ]
  },
  {
   "cell_type": "code",
   "execution_count": null,
   "id": "8ee618b0",
   "metadata": {},
   "outputs": [],
   "source": []
  }
 ],
 "metadata": {
  "kernelspec": {
   "display_name": "Python 3 (ipykernel)",
   "language": "python",
   "name": "python3"
  },
  "language_info": {
   "codemirror_mode": {
    "name": "ipython",
    "version": 3
   },
   "file_extension": ".py",
   "mimetype": "text/x-python",
   "name": "python",
   "nbconvert_exporter": "python",
   "pygments_lexer": "ipython3",
   "version": "3.9.7"
  }
 },
 "nbformat": 4,
 "nbformat_minor": 5
}
